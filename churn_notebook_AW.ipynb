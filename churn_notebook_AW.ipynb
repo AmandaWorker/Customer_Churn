{
 "cells": [
  {
   "cell_type": "code",
   "execution_count": 1,
   "metadata": {
    "editable": true
   },
   "outputs": [],
   "source": [
    "import shap\n",
    "import joblib\n",
    "import pandas as pd\n",
    "import numpy as np\n",
    "import matplotlib.pyplot as plt\n",
    "import seaborn as sns; sns.set()\n",
    "\n",
    "from sklearn.preprocessing import normalize\n",
    "from sklearn.model_selection import train_test_split\n",
    "\n",
    "from sklearn.linear_model import LogisticRegression\n",
    "from sklearn.ensemble import RandomForestClassifier\n",
    "from sklearn.model_selection import GridSearchCV\n",
    "\n",
    "from sklearn.metrics import plot_roc_curve, classification_report\n",
    "\n",
    "from churn_library_solution import import_data, perform_eda, encoder_helper\n",
    "from churn_library_solution import perform_feature_engineering, classification_report_image\n",
    "\n",
    "from churn_library_solution import train_models, model_plots, feature_importance_plot"
   ]
  },
  {
   "cell_type": "code",
   "execution_count": 2,
   "metadata": {
    "editable": true
   },
   "outputs": [],
   "source": [
    "import os\n",
    "os.environ['QT_QPA_PLATFORM']='offscreen'"
   ]
  },
  {
   "cell_type": "code",
   "execution_count": 3,
   "metadata": {
    "editable": true
   },
   "outputs": [
    {
     "data": {
      "text/html": [
       "<div>\n",
       "<style scoped>\n",
       "    .dataframe tbody tr th:only-of-type {\n",
       "        vertical-align: middle;\n",
       "    }\n",
       "\n",
       "    .dataframe tbody tr th {\n",
       "        vertical-align: top;\n",
       "    }\n",
       "\n",
       "    .dataframe thead th {\n",
       "        text-align: right;\n",
       "    }\n",
       "</style>\n",
       "<table border=\"1\" class=\"dataframe\">\n",
       "  <thead>\n",
       "    <tr style=\"text-align: right;\">\n",
       "      <th></th>\n",
       "      <th>Unnamed: 0</th>\n",
       "      <th>CLIENTNUM</th>\n",
       "      <th>Attrition_Flag</th>\n",
       "      <th>Customer_Age</th>\n",
       "      <th>Gender</th>\n",
       "      <th>Dependent_count</th>\n",
       "      <th>Education_Level</th>\n",
       "      <th>Marital_Status</th>\n",
       "      <th>Income_Category</th>\n",
       "      <th>Card_Category</th>\n",
       "      <th>...</th>\n",
       "      <th>Months_Inactive_12_mon</th>\n",
       "      <th>Contacts_Count_12_mon</th>\n",
       "      <th>Credit_Limit</th>\n",
       "      <th>Total_Revolving_Bal</th>\n",
       "      <th>Avg_Open_To_Buy</th>\n",
       "      <th>Total_Amt_Chng_Q4_Q1</th>\n",
       "      <th>Total_Trans_Amt</th>\n",
       "      <th>Total_Trans_Ct</th>\n",
       "      <th>Total_Ct_Chng_Q4_Q1</th>\n",
       "      <th>Avg_Utilization_Ratio</th>\n",
       "    </tr>\n",
       "  </thead>\n",
       "  <tbody>\n",
       "    <tr>\n",
       "      <th>0</th>\n",
       "      <td>0</td>\n",
       "      <td>768805383</td>\n",
       "      <td>Existing Customer</td>\n",
       "      <td>45</td>\n",
       "      <td>M</td>\n",
       "      <td>3</td>\n",
       "      <td>High School</td>\n",
       "      <td>Married</td>\n",
       "      <td>$60K - $80K</td>\n",
       "      <td>Blue</td>\n",
       "      <td>...</td>\n",
       "      <td>1</td>\n",
       "      <td>3</td>\n",
       "      <td>12691.0</td>\n",
       "      <td>777</td>\n",
       "      <td>11914.0</td>\n",
       "      <td>1.335</td>\n",
       "      <td>1144</td>\n",
       "      <td>42</td>\n",
       "      <td>1.625</td>\n",
       "      <td>0.061</td>\n",
       "    </tr>\n",
       "    <tr>\n",
       "      <th>1</th>\n",
       "      <td>1</td>\n",
       "      <td>818770008</td>\n",
       "      <td>Existing Customer</td>\n",
       "      <td>49</td>\n",
       "      <td>F</td>\n",
       "      <td>5</td>\n",
       "      <td>Graduate</td>\n",
       "      <td>Single</td>\n",
       "      <td>Less than $40K</td>\n",
       "      <td>Blue</td>\n",
       "      <td>...</td>\n",
       "      <td>1</td>\n",
       "      <td>2</td>\n",
       "      <td>8256.0</td>\n",
       "      <td>864</td>\n",
       "      <td>7392.0</td>\n",
       "      <td>1.541</td>\n",
       "      <td>1291</td>\n",
       "      <td>33</td>\n",
       "      <td>3.714</td>\n",
       "      <td>0.105</td>\n",
       "    </tr>\n",
       "    <tr>\n",
       "      <th>2</th>\n",
       "      <td>2</td>\n",
       "      <td>713982108</td>\n",
       "      <td>Existing Customer</td>\n",
       "      <td>51</td>\n",
       "      <td>M</td>\n",
       "      <td>3</td>\n",
       "      <td>Graduate</td>\n",
       "      <td>Married</td>\n",
       "      <td>$80K - $120K</td>\n",
       "      <td>Blue</td>\n",
       "      <td>...</td>\n",
       "      <td>1</td>\n",
       "      <td>0</td>\n",
       "      <td>3418.0</td>\n",
       "      <td>0</td>\n",
       "      <td>3418.0</td>\n",
       "      <td>2.594</td>\n",
       "      <td>1887</td>\n",
       "      <td>20</td>\n",
       "      <td>2.333</td>\n",
       "      <td>0.000</td>\n",
       "    </tr>\n",
       "    <tr>\n",
       "      <th>3</th>\n",
       "      <td>3</td>\n",
       "      <td>769911858</td>\n",
       "      <td>Existing Customer</td>\n",
       "      <td>40</td>\n",
       "      <td>F</td>\n",
       "      <td>4</td>\n",
       "      <td>High School</td>\n",
       "      <td>Unknown</td>\n",
       "      <td>Less than $40K</td>\n",
       "      <td>Blue</td>\n",
       "      <td>...</td>\n",
       "      <td>4</td>\n",
       "      <td>1</td>\n",
       "      <td>3313.0</td>\n",
       "      <td>2517</td>\n",
       "      <td>796.0</td>\n",
       "      <td>1.405</td>\n",
       "      <td>1171</td>\n",
       "      <td>20</td>\n",
       "      <td>2.333</td>\n",
       "      <td>0.760</td>\n",
       "    </tr>\n",
       "    <tr>\n",
       "      <th>4</th>\n",
       "      <td>4</td>\n",
       "      <td>709106358</td>\n",
       "      <td>Existing Customer</td>\n",
       "      <td>40</td>\n",
       "      <td>M</td>\n",
       "      <td>3</td>\n",
       "      <td>Uneducated</td>\n",
       "      <td>Married</td>\n",
       "      <td>$60K - $80K</td>\n",
       "      <td>Blue</td>\n",
       "      <td>...</td>\n",
       "      <td>1</td>\n",
       "      <td>0</td>\n",
       "      <td>4716.0</td>\n",
       "      <td>0</td>\n",
       "      <td>4716.0</td>\n",
       "      <td>2.175</td>\n",
       "      <td>816</td>\n",
       "      <td>28</td>\n",
       "      <td>2.500</td>\n",
       "      <td>0.000</td>\n",
       "    </tr>\n",
       "  </tbody>\n",
       "</table>\n",
       "<p>5 rows × 22 columns</p>\n",
       "</div>"
      ],
      "text/plain": [
       "   Unnamed: 0  CLIENTNUM     Attrition_Flag  Customer_Age Gender  \\\n",
       "0           0  768805383  Existing Customer            45      M   \n",
       "1           1  818770008  Existing Customer            49      F   \n",
       "2           2  713982108  Existing Customer            51      M   \n",
       "3           3  769911858  Existing Customer            40      F   \n",
       "4           4  709106358  Existing Customer            40      M   \n",
       "\n",
       "   Dependent_count Education_Level Marital_Status Income_Category  \\\n",
       "0                3     High School        Married     $60K - $80K   \n",
       "1                5        Graduate         Single  Less than $40K   \n",
       "2                3        Graduate        Married    $80K - $120K   \n",
       "3                4     High School        Unknown  Less than $40K   \n",
       "4                3      Uneducated        Married     $60K - $80K   \n",
       "\n",
       "  Card_Category          ...            Months_Inactive_12_mon  \\\n",
       "0          Blue          ...                                 1   \n",
       "1          Blue          ...                                 1   \n",
       "2          Blue          ...                                 1   \n",
       "3          Blue          ...                                 4   \n",
       "4          Blue          ...                                 1   \n",
       "\n",
       "   Contacts_Count_12_mon  Credit_Limit  Total_Revolving_Bal  Avg_Open_To_Buy  \\\n",
       "0                      3       12691.0                  777          11914.0   \n",
       "1                      2        8256.0                  864           7392.0   \n",
       "2                      0        3418.0                    0           3418.0   \n",
       "3                      1        3313.0                 2517            796.0   \n",
       "4                      0        4716.0                    0           4716.0   \n",
       "\n",
       "   Total_Amt_Chng_Q4_Q1  Total_Trans_Amt  Total_Trans_Ct  Total_Ct_Chng_Q4_Q1  \\\n",
       "0                 1.335             1144              42                1.625   \n",
       "1                 1.541             1291              33                3.714   \n",
       "2                 2.594             1887              20                2.333   \n",
       "3                 1.405             1171              20                2.333   \n",
       "4                 2.175              816              28                2.500   \n",
       "\n",
       "   Avg_Utilization_Ratio  \n",
       "0                  0.061  \n",
       "1                  0.105  \n",
       "2                  0.000  \n",
       "3                  0.760  \n",
       "4                  0.000  \n",
       "\n",
       "[5 rows x 22 columns]"
      ]
     },
     "execution_count": 3,
     "metadata": {},
     "output_type": "execute_result"
    }
   ],
   "source": [
    "# df = pd.read_csv(r\"./data/bank_data.csv\")\n",
    "df = import_data(r\"./data/bank_data.csv\")\n",
    "df.head()"
   ]
  },
  {
   "cell_type": "code",
   "execution_count": 4,
   "metadata": {
    "editable": true
   },
   "outputs": [
    {
     "name": "stdout",
     "output_type": "stream",
     "text": [
      "The shape of the dataframe is: (10127, 22)\n",
      "The number of null values per columns is: Unnamed: 0                  0\n",
      "CLIENTNUM                   0\n",
      "Attrition_Flag              0\n",
      "Customer_Age                0\n",
      "Gender                      0\n",
      "Dependent_count             0\n",
      "Education_Level             0\n",
      "Marital_Status              0\n",
      "Income_Category             0\n",
      "Card_Category               0\n",
      "Months_on_book              0\n",
      "Total_Relationship_Count    0\n",
      "Months_Inactive_12_mon      0\n",
      "Contacts_Count_12_mon       0\n",
      "Credit_Limit                0\n",
      "Total_Revolving_Bal         0\n",
      "Avg_Open_To_Buy             0\n",
      "Total_Amt_Chng_Q4_Q1        0\n",
      "Total_Trans_Amt             0\n",
      "Total_Trans_Ct              0\n",
      "Total_Ct_Chng_Q4_Q1         0\n",
      "Avg_Utilization_Ratio       0\n",
      "dtype: int64\n",
      "Here is a description of the dataframe:          Unnamed: 0     CLIENTNUM  Customer_Age  Dependent_count  \\\n",
      "count  10127.000000  1.012700e+04  10127.000000     10127.000000   \n",
      "mean    5063.000000  7.391776e+08     46.325960         2.346203   \n",
      "std     2923.557422  3.690378e+07      8.016814         1.298908   \n",
      "min        0.000000  7.080821e+08     26.000000         0.000000   \n",
      "25%     2531.500000  7.130368e+08     41.000000         1.000000   \n",
      "50%     5063.000000  7.179264e+08     46.000000         2.000000   \n",
      "75%     7594.500000  7.731435e+08     52.000000         3.000000   \n",
      "max    10126.000000  8.283431e+08     73.000000         5.000000   \n",
      "\n",
      "       Months_on_book  Total_Relationship_Count  Months_Inactive_12_mon  \\\n",
      "count    10127.000000              10127.000000            10127.000000   \n",
      "mean        35.928409                  3.812580                2.341167   \n",
      "std          7.986416                  1.554408                1.010622   \n",
      "min         13.000000                  1.000000                0.000000   \n",
      "25%         31.000000                  3.000000                2.000000   \n",
      "50%         36.000000                  4.000000                2.000000   \n",
      "75%         40.000000                  5.000000                3.000000   \n",
      "max         56.000000                  6.000000                6.000000   \n",
      "\n",
      "       Contacts_Count_12_mon  Credit_Limit  Total_Revolving_Bal  \\\n",
      "count           10127.000000  10127.000000         10127.000000   \n",
      "mean                2.455317   8631.953698          1162.814061   \n",
      "std                 1.106225   9088.776650           814.987335   \n",
      "min                 0.000000   1438.300000             0.000000   \n",
      "25%                 2.000000   2555.000000           359.000000   \n",
      "50%                 2.000000   4549.000000          1276.000000   \n",
      "75%                 3.000000  11067.500000          1784.000000   \n",
      "max                 6.000000  34516.000000          2517.000000   \n",
      "\n",
      "       Avg_Open_To_Buy  Total_Amt_Chng_Q4_Q1  Total_Trans_Amt  Total_Trans_Ct  \\\n",
      "count     10127.000000          10127.000000     10127.000000    10127.000000   \n",
      "mean       7469.139637              0.759941      4404.086304       64.858695   \n",
      "std        9090.685324              0.219207      3397.129254       23.472570   \n",
      "min           3.000000              0.000000       510.000000       10.000000   \n",
      "25%        1324.500000              0.631000      2155.500000       45.000000   \n",
      "50%        3474.000000              0.736000      3899.000000       67.000000   \n",
      "75%        9859.000000              0.859000      4741.000000       81.000000   \n",
      "max       34516.000000              3.397000     18484.000000      139.000000   \n",
      "\n",
      "       Total_Ct_Chng_Q4_Q1  Avg_Utilization_Ratio  \n",
      "count         10127.000000           10127.000000  \n",
      "mean              0.712222               0.274894  \n",
      "std               0.238086               0.275691  \n",
      "min               0.000000               0.000000  \n",
      "25%               0.582000               0.023000  \n",
      "50%               0.702000               0.176000  \n",
      "75%               0.818000               0.503000  \n",
      "max               3.714000               0.999000  \n",
      "New column 'Churn' created.\n"
     ]
    }
   ],
   "source": [
    "# Define your new column creation logic (optional)\n",
    "new_col_logic = ('Churn', lambda row: 0 if row['Attrition_Flag'] == 'Existing Customer' else 1)\n",
    "\n",
    "# Define column lists\n",
    "cat_columns = [\n",
    "    'Gender',\n",
    "    'Education_Level',\n",
    "    'Marital_Status',\n",
    "    'Income_Category',\n",
    "    'Card_Category'                \n",
    "]\n",
    "\n",
    "quant_columns = [\n",
    "    'Customer_Age',\n",
    "    'Dependent_count', \n",
    "    'Months_on_book',\n",
    "    'Total_Relationship_Count', \n",
    "    'Months_Inactive_12_mon',\n",
    "    'Contacts_Count_12_mon', \n",
    "    'Credit_Limit', \n",
    "    'Total_Revolving_Bal',\n",
    "    'Avg_Open_To_Buy', \n",
    "    'Total_Amt_Chng_Q4_Q1', \n",
    "    'Total_Trans_Amt',\n",
    "    'Total_Trans_Ct', \n",
    "    'Total_Ct_Chng_Q4_Q1', \n",
    "    'Avg_Utilization_Ratio'\n",
    "]\n",
    "\n",
    "# Run EDA with new column creation\n",
    "perform_eda(\n",
    "    df=df,\n",
    "    output_path='./images/results/',\n",
    "    cat_columns=cat_columns,\n",
    "    quant_columns=quant_columns,\n",
    "    new_col_logic=new_col_logic\n",
    ")"
   ]
  },
  {
   "cell_type": "code",
   "execution_count": 5,
   "metadata": {
    "editable": true
   },
   "outputs": [],
   "source": [
    "response = 'Churn'\n",
    "df = encoder_helper(df, cat_columns, response)"
   ]
  },
  {
   "cell_type": "code",
   "execution_count": 6,
   "metadata": {
    "editable": true
   },
   "outputs": [
    {
     "data": {
      "text/html": [
       "<div>\n",
       "<style scoped>\n",
       "    .dataframe tbody tr th:only-of-type {\n",
       "        vertical-align: middle;\n",
       "    }\n",
       "\n",
       "    .dataframe tbody tr th {\n",
       "        vertical-align: top;\n",
       "    }\n",
       "\n",
       "    .dataframe thead th {\n",
       "        text-align: right;\n",
       "    }\n",
       "</style>\n",
       "<table border=\"1\" class=\"dataframe\">\n",
       "  <thead>\n",
       "    <tr style=\"text-align: right;\">\n",
       "      <th></th>\n",
       "      <th>Unnamed: 0</th>\n",
       "      <th>CLIENTNUM</th>\n",
       "      <th>Attrition_Flag</th>\n",
       "      <th>Customer_Age</th>\n",
       "      <th>Gender</th>\n",
       "      <th>Dependent_count</th>\n",
       "      <th>Education_Level</th>\n",
       "      <th>Marital_Status</th>\n",
       "      <th>Income_Category</th>\n",
       "      <th>Card_Category</th>\n",
       "      <th>...</th>\n",
       "      <th>Total_Trans_Amt</th>\n",
       "      <th>Total_Trans_Ct</th>\n",
       "      <th>Total_Ct_Chng_Q4_Q1</th>\n",
       "      <th>Avg_Utilization_Ratio</th>\n",
       "      <th>Churn</th>\n",
       "      <th>Gender_Churn</th>\n",
       "      <th>Education_Level_Churn</th>\n",
       "      <th>Marital_Status_Churn</th>\n",
       "      <th>Income_Category_Churn</th>\n",
       "      <th>Card_Category_Churn</th>\n",
       "    </tr>\n",
       "  </thead>\n",
       "  <tbody>\n",
       "    <tr>\n",
       "      <th>0</th>\n",
       "      <td>0</td>\n",
       "      <td>768805383</td>\n",
       "      <td>Existing Customer</td>\n",
       "      <td>45</td>\n",
       "      <td>M</td>\n",
       "      <td>3</td>\n",
       "      <td>High School</td>\n",
       "      <td>Married</td>\n",
       "      <td>$60K - $80K</td>\n",
       "      <td>Blue</td>\n",
       "      <td>...</td>\n",
       "      <td>1144</td>\n",
       "      <td>42</td>\n",
       "      <td>1.625</td>\n",
       "      <td>0.061</td>\n",
       "      <td>0</td>\n",
       "      <td>0.146152</td>\n",
       "      <td>0.152012</td>\n",
       "      <td>0.151269</td>\n",
       "      <td>0.134807</td>\n",
       "      <td>0.160979</td>\n",
       "    </tr>\n",
       "    <tr>\n",
       "      <th>1</th>\n",
       "      <td>1</td>\n",
       "      <td>818770008</td>\n",
       "      <td>Existing Customer</td>\n",
       "      <td>49</td>\n",
       "      <td>F</td>\n",
       "      <td>5</td>\n",
       "      <td>Graduate</td>\n",
       "      <td>Single</td>\n",
       "      <td>Less than $40K</td>\n",
       "      <td>Blue</td>\n",
       "      <td>...</td>\n",
       "      <td>1291</td>\n",
       "      <td>33</td>\n",
       "      <td>3.714</td>\n",
       "      <td>0.105</td>\n",
       "      <td>0</td>\n",
       "      <td>0.173572</td>\n",
       "      <td>0.155691</td>\n",
       "      <td>0.169414</td>\n",
       "      <td>0.171862</td>\n",
       "      <td>0.160979</td>\n",
       "    </tr>\n",
       "  </tbody>\n",
       "</table>\n",
       "<p>2 rows × 28 columns</p>\n",
       "</div>"
      ],
      "text/plain": [
       "   Unnamed: 0  CLIENTNUM     Attrition_Flag  Customer_Age Gender  \\\n",
       "0           0  768805383  Existing Customer            45      M   \n",
       "1           1  818770008  Existing Customer            49      F   \n",
       "\n",
       "   Dependent_count Education_Level Marital_Status Income_Category  \\\n",
       "0                3     High School        Married     $60K - $80K   \n",
       "1                5        Graduate         Single  Less than $40K   \n",
       "\n",
       "  Card_Category         ...           Total_Trans_Amt  Total_Trans_Ct  \\\n",
       "0          Blue         ...                      1144              42   \n",
       "1          Blue         ...                      1291              33   \n",
       "\n",
       "   Total_Ct_Chng_Q4_Q1  Avg_Utilization_Ratio  Churn  Gender_Churn  \\\n",
       "0                1.625                  0.061      0      0.146152   \n",
       "1                3.714                  0.105      0      0.173572   \n",
       "\n",
       "   Education_Level_Churn  Marital_Status_Churn  Income_Category_Churn  \\\n",
       "0               0.152012              0.151269               0.134807   \n",
       "1               0.155691              0.169414               0.171862   \n",
       "\n",
       "   Card_Category_Churn  \n",
       "0             0.160979  \n",
       "1             0.160979  \n",
       "\n",
       "[2 rows x 28 columns]"
      ]
     },
     "execution_count": 6,
     "metadata": {},
     "output_type": "execute_result"
    }
   ],
   "source": [
    "df.head(2)"
   ]
  },
  {
   "cell_type": "code",
   "execution_count": 7,
   "metadata": {
    "editable": true,
    "jupyter": {
     "source_hidden": true
    }
   },
   "outputs": [],
   "source": [
    "keep_cols = ['Customer_Age', 'Dependent_count', 'Months_on_book',\n",
    "             'Total_Relationship_Count', 'Months_Inactive_12_mon',\n",
    "             'Contacts_Count_12_mon', 'Credit_Limit', 'Total_Revolving_Bal',\n",
    "             'Avg_Open_To_Buy', 'Total_Amt_Chng_Q4_Q1', 'Total_Trans_Amt',\n",
    "             'Total_Trans_Ct', 'Total_Ct_Chng_Q4_Q1', 'Avg_Utilization_Ratio',\n",
    "             'Gender_Churn', 'Education_Level_Churn', 'Marital_Status_Churn', \n",
    "             'Income_Category_Churn', 'Card_Category_Churn']\n"
   ]
  },
  {
   "cell_type": "code",
   "execution_count": 8,
   "metadata": {
    "editable": true
   },
   "outputs": [],
   "source": [
    "X_train, X_test, y_train, y_test = perform_feature_engineering(df, response, keep_cols)"
   ]
  },
  {
   "cell_type": "code",
   "execution_count": 9,
   "metadata": {
    "editable": true
   },
   "outputs": [
    {
     "data": {
      "image/png": "[encoded data removed]",
      "text/plain": [
       "<matplotlib.figure.Figure at 0x79c3b2df55f8>"
      ]
     },
     "metadata": {
      "needs_background": "light"
     },
     "output_type": "display_data"
    }
   ],
   "source": [
    "train_models(X_train, X_test, y_train, y_test, \"./\")"
   ]
  },
  {
   "cell_type": "code",
   "execution_count": null,
   "metadata": {
    "editable": true
   },
   "outputs": [],
   "source": [
    "rfc_model = joblib.load('./models/rfc_model.pkl')\n",
    "lr_model = joblib.load('./models/logistic_model.pkl')"
   ]
  },
  {
   "cell_type": "code",
   "execution_count": null,
   "metadata": {
    "editable": true
   },
   "outputs": [],
   "source": [
    "lr_model"
   ]
  },
  {
   "cell_type": "code",
   "execution_count": null,
   "metadata": {
    "editable": true
   },
   "outputs": [],
   "source": []
  },
  {
   "cell_type": "code",
   "execution_count": null,
   "metadata": {
    "editable": true
   },
   "outputs": [],
   "source": [
    "# Run inside train models\n",
    "model_plots(rfc_model, lr_model, X_test, y_test, 'images/results')"
   ]
  },
  {
   "cell_type": "code",
   "execution_count": null,
   "metadata": {
    "editable": true
   },
   "outputs": [],
   "source": []
  },
  {
   "cell_type": "code",
   "execution_count": null,
   "metadata": {
    "editable": true
   },
   "outputs": [],
   "source": [
    "# # Maybe use this function within the train models function?\n",
    "# classification_report_image(y_train,\n",
    "#                             y_test,\n",
    "#                             y_train_preds_lr,\n",
    "#                             y_train_preds_rf,\n",
    "#                             y_test_preds_lr,\n",
    "#                             y_test_preds_rf)"
   ]
  },
  {
   "cell_type": "code",
   "execution_count": null,
   "metadata": {
    "editable": true
   },
   "outputs": [],
   "source": []
  },
  {
   "cell_type": "code",
   "execution_count": null,
   "metadata": {
    "editable": true
   },
   "outputs": [],
   "source": []
  },
  {
   "cell_type": "code",
   "execution_count": null,
   "metadata": {
    "editable": true
   },
   "outputs": [],
   "source": []
  },
  {
   "cell_type": "code",
   "execution_count": null,
   "metadata": {
    "editable": true
   },
   "outputs": [],
   "source": []
  },
  {
   "cell_type": "code",
   "execution_count": null,
   "metadata": {
    "editable": true
   },
   "outputs": [],
   "source": [
    "explainer = shap.TreeExplainer(cv_rfc.best_estimator_)\n",
    "shap_values = explainer.shap_values(X_test)\n",
    "shap.summary_plot(shap_values, X_test, plot_type=\"bar\")"
   ]
  },
  {
   "cell_type": "code",
   "execution_count": null,
   "metadata": {
    "editable": true
   },
   "outputs": [],
   "source": [
    "# Calculate feature importances\n",
    "importances = cv_rfc.best_estimator_.feature_importances_\n",
    "# Sort feature importances in descending order\n",
    "indices = np.argsort(importances)[::-1]\n",
    "\n",
    "# Rearrange feature names so they match the sorted feature importances\n",
    "names = [X.columns[i] for i in indices]\n",
    "\n",
    "# Create plot\n",
    "plt.figure(figsize=(20,5))\n",
    "\n",
    "# Create plot title\n",
    "plt.title(\"Feature Importance\")\n",
    "plt.ylabel('Importance')\n",
    "\n",
    "# Add bars\n",
    "plt.bar(range(X.shape[1]), importances[indices])\n",
    "\n",
    "# Add feature names as x-axis labels\n",
    "plt.xticks(range(X.shape[1]), names, rotation=90);"
   ]
  },
  {
   "cell_type": "code",
   "execution_count": null,
   "metadata": {
    "editable": true
   },
   "outputs": [],
   "source": [
    "plt.rc('figure', figsize=(5, 5))\n",
    "#plt.text(0.01, 0.05, str(model.summary()), {'fontsize': 12}) old approach\n",
    "plt.text(0.01, 1.25, str('Random Forest Train'), {'fontsize': 10}, fontproperties = 'monospace')\n",
    "plt.text(0.01, 0.05, str(classification_report(y_test, y_test_preds_rf)), {'fontsize': 10}, fontproperties = 'monospace') # approach improved by OP -> monospace!\n",
    "plt.text(0.01, 0.6, str('Random Forest Test'), {'fontsize': 10}, fontproperties = 'monospace')\n",
    "plt.text(0.01, 0.7, str(classification_report(y_train, y_train_preds_rf)), {'fontsize': 10}, fontproperties = 'monospace') # approach improved by OP -> monospace!\n",
    "plt.axis('off');\n"
   ]
  },
  {
   "cell_type": "code",
   "execution_count": null,
   "metadata": {
    "editable": true
   },
   "outputs": [],
   "source": [
    "plt.rc('figure', figsize=(5, 5))\n",
    "plt.text(0.01, 1.25, str('Logistic Regression Train'), {'fontsize': 10}, fontproperties = 'monospace')\n",
    "plt.text(0.01, 0.05, str(classification_report(y_train, y_train_preds_lr)), {'fontsize': 10}, fontproperties = 'monospace') # approach improved by OP -> monospace!\n",
    "plt.text(0.01, 0.6, str('Logistic Regression Test'), {'fontsize': 10}, fontproperties = 'monospace')\n",
    "plt.text(0.01, 0.7, str(classification_report(y_test, y_test_preds_lr)), {'fontsize': 10}, fontproperties = 'monospace') # approach improved by OP -> monospace!\n",
    "plt.axis('off');"
   ]
  },
  {
   "cell_type": "code",
   "execution_count": null,
   "metadata": {
    "editable": true
   },
   "outputs": [],
   "source": []
  }
 ],
 "metadata": {
  "kernelspec": {
   "display_name": "Python 3",
   "language": "python",
   "name": "python3"
  },
  "language_info": {
   "codemirror_mode": {
    "name": "ipython",
    "version": 3
   },
   "file_extension": ".py",
   "mimetype": "text/x-python",
   "name": "python",
   "nbconvert_exporter": "python",
   "pygments_lexer": "ipython3",
   "version": "3.6.3"
  }
 },
 "nbformat": 4,
 "nbformat_minor": 4
}
